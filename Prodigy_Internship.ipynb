{
  "nbformat": 4,
  "nbformat_minor": 0,
  "metadata": {
    "colab": {
      "provenance": []
    },
    "kernelspec": {
      "name": "python3",
      "display_name": "Python 3"
    },
    "language_info": {
      "name": "python"
    }
  },
  "cells": [
    {
      "cell_type": "code",
      "execution_count": 1,
      "metadata": {
        "colab": {
          "base_uri": "https://localhost:8080/"
        },
        "id": "YMgGgQ0TMbmD",
        "outputId": "b8bdc2b5-ea1d-45c6-d44d-d7b899ac7f7c"
      },
      "outputs": [
        {
          "output_type": "stream",
          "name": "stdout",
          "text": [
            "=== Caesar Cipher Program ===\n",
            "Choose an option:\n",
            "1. Encrypt\n",
            "2. Decrypt\n",
            "Enter 1 or 2: 1\n",
            "Enter your message: Hello its me\n",
            "Enter shift value (integer): 2\n",
            "\n",
            "Encrypted message: Jgnnq kvu og\n"
          ]
        }
      ],
      "source": [
        "def caesar_encrypt(text, shift):\n",
        "    result = \"\"\n",
        "    for char in text:\n",
        "        if char.isalpha():\n",
        "            base = ord('A') if char.isupper() else ord('a')\n",
        "\n",
        "            result += chr((ord(char) - base + shift) % 26 + base)\n",
        "        else:\n",
        "\n",
        "            result += char\n",
        "    return result\n",
        "\n",
        "def caesar_decrypt(text, shift):\n",
        "    return caesar_encrypt(text, -shift)\n",
        "\n",
        "def main():\n",
        "    print(\"=== Caesar Cipher Program ===\")\n",
        "    choice = input(\"Choose an option:\\n1. Encrypt\\n2. Decrypt\\nEnter 1 or 2: \")\n",
        "\n",
        "    message = input(\"Enter your message: \")\n",
        "    while True:\n",
        "        try:\n",
        "            shift = int(input(\"Enter shift value: \"))\n",
        "            break\n",
        "        except ValueError:\n",
        "            print(\"Please enter a valid integer for the shift.\")\n",
        "\n",
        "    if choice == '1':\n",
        "        encrypted = caesar_encrypt(message, shift)\n",
        "        print(f\"\\nEncrypted message: {encrypted}\")\n",
        "    elif choice == '2':\n",
        "        decrypted = caesar_decrypt(message, shift)\n",
        "        print(f\"\\nDecrypted message: {decrypted}\")\n",
        "    else:\n",
        "        print(\"Invalid choice! Please enter 1 or 2.\")\n",
        "\n",
        "if __name__ == \"__main__\":\n",
        "    main()"
      ]
    }
  ]
}